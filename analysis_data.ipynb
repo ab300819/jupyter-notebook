{
 "cells": [
  {
   "cell_type": "code",
   "execution_count": 2,
   "metadata": {},
   "outputs": [
    {
     "data": {
      "text/plain": [
       "'{ \"a\": \"Mozilla\\\\/5.0 (Windows NT 6.1; WOW64) AppleWebKit\\\\/535.11 (KHTML, like Gecko) Chrome\\\\/17.0.963.78 Safari\\\\/535.11\", \"c\": \"US\", \"nk\": 1, \"tz\": \"America\\\\/New_York\", \"gr\": \"MA\", \"g\": \"A6qOVH\", \"h\": \"wfLQtf\", \"l\": \"orofrog\", \"al\": \"en-US,en;q=0.8\", \"hh\": \"1.usa.gov\", \"r\": \"http:\\\\/\\\\/www.facebook.com\\\\/l\\\\/7AQEFzjSi\\\\/1.usa.gov\\\\/wfLQtf\", \"u\": \"http:\\\\/\\\\/www.ncbi.nlm.nih.gov\\\\/pubmed\\\\/22415991\", \"t\": 1331923247, \"hc\": 1331822918, \"cy\": \"Danvers\", \"ll\": [ 42.576698, -70.954903 ] }\\n'"
      ]
     },
     "execution_count": 2,
     "metadata": {},
     "output_type": "execute_result"
    }
   ],
   "source": [
    "path='pydata-book/datasets/bitly_usagov/example.txt'\n",
    "open(path).readline()"
   ]
  },
  {
   "cell_type": "code",
   "execution_count": 6,
   "metadata": {},
   "outputs": [
    {
     "data": {
      "text/plain": [
       "{'a': 'Mozilla/5.0 (Windows NT 6.1; WOW64) AppleWebKit/535.11 (KHTML, like Gecko) Chrome/17.0.963.78 Safari/535.11',\n",
       " 'al': 'en-US,en;q=0.8',\n",
       " 'c': 'US',\n",
       " 'cy': 'Danvers',\n",
       " 'g': 'A6qOVH',\n",
       " 'gr': 'MA',\n",
       " 'h': 'wfLQtf',\n",
       " 'hc': 1331822918,\n",
       " 'hh': '1.usa.gov',\n",
       " 'l': 'orofrog',\n",
       " 'll': [42.576698, -70.954903],\n",
       " 'nk': 1,\n",
       " 'r': 'http://www.facebook.com/l/7AQEFzjSi/1.usa.gov/wfLQtf',\n",
       " 't': 1331923247,\n",
       " 'tz': 'America/New_York',\n",
       " 'u': 'http://www.ncbi.nlm.nih.gov/pubmed/22415991'}"
      ]
     },
     "execution_count": 6,
     "metadata": {},
     "output_type": "execute_result"
    }
   ],
   "source": [
    "import json\n",
    "records=[json.loads(line) for line in open(path)]\n",
    "records[0]"
   ]
  },
  {
   "cell_type": "code",
   "execution_count": 8,
   "metadata": {},
   "outputs": [
    {
     "data": {
      "text/plain": [
       "['America/New_York',\n",
       " 'America/Denver',\n",
       " 'America/New_York',\n",
       " 'America/Sao_Paulo',\n",
       " 'America/New_York',\n",
       " 'America/New_York',\n",
       " 'Europe/Warsaw',\n",
       " '',\n",
       " '',\n",
       " '']"
      ]
     },
     "execution_count": 8,
     "metadata": {},
     "output_type": "execute_result"
    }
   ],
   "source": [
    "time_zones=[rec['tz'] for rec in records if 'tz' in rec]\n",
    "time_zones[0:10]"
   ]
  },
  {
   "cell_type": "code",
   "execution_count": 9,
   "metadata": {
    "collapsed": true
   },
   "outputs": [],
   "source": [
    "from collections import defaultdict\n",
    "def get_count(sequence):\n",
    "    counts=defaultdict(int)\n",
    "    for cell in sequence:\n",
    "        counts[cell]+=1\n",
    "    return counts"
   ]
  },
  {
   "cell_type": "code",
   "execution_count": 11,
   "metadata": {},
   "outputs": [
    {
     "name": "stdout",
     "output_type": "stream",
     "text": [
      "defaultdict(<class 'int'>, {'': 521, 'Europe/Moscow': 10, 'Europe/Skopje': 1, 'America/Monterrey': 1, 'Europe/Sofia': 1, 'America/Santo_Domingo': 1, 'Africa/Casablanca': 1, 'Europe/Prague': 10, 'Asia/Riyadh': 1, 'America/Halifax': 4, 'Europe/Oslo': 10, 'Africa/Ceuta': 2, 'Europe/Vienna': 6, 'Asia/Hong_Kong': 10, 'America/Argentina/Buenos_Aires': 1, 'America/Phoenix': 20, 'Asia/Kuala_Lumpur': 3, 'Africa/Johannesburg': 1, 'Africa/Cairo': 3, 'Pacific/Honolulu': 36, 'America/Puerto_Rico': 10, 'Asia/Yekaterinburg': 1, 'America/Anchorage': 5, 'Asia/Bangkok': 6, 'Europe/Athens': 6, 'America/New_York': 1251, 'Europe/Lisbon': 8, 'America/Recife': 2, 'America/Montreal': 9, 'America/Argentina/Mendoza': 1, 'America/Caracas': 1, 'America/Mazatlan': 1, 'Pacific/Auckland': 11, 'Europe/Rome': 27, 'Asia/Jerusalem': 3, 'Europe/Belgrade': 2, 'Asia/Amman': 2, 'Asia/Harbin': 3, 'America/Chicago': 400, 'Asia/Beirut': 4, 'Europe/Riga': 2, 'Chile/Continental': 6, 'America/Managua': 3, 'Australia/NSW': 6, 'America/Lima': 1, 'Europe/Dublin': 3, 'Asia/Istanbul': 9, 'America/Guayaquil': 2, 'Asia/Calcutta': 9, 'America/Winnipeg': 4, 'America/Bogota': 3, 'Asia/Kuching': 1, 'Europe/London': 74, 'America/Los_Angeles': 382, 'America/Indianapolis': 20, 'Europe/Stockholm': 14, 'Europe/Warsaw': 16, 'Asia/Jakarta': 3, 'America/Sao_Paulo': 33, 'Europe/Volgograd': 1, 'Europe/Paris': 14, 'America/Edmonton': 6, 'Europe/Zurich': 4, 'Europe/Amsterdam': 22, 'America/La_Paz': 1, 'Europe/Bratislava': 3, 'Asia/Seoul': 5, 'Asia/Tokyo': 37, 'Asia/Manila': 1, 'America/Denver': 191, 'Europe/Ljubljana': 1, 'America/Montevideo': 1, 'America/Tegucigalpa': 1, 'Europe/Malta': 2, 'Africa/Lusaka': 1, 'Europe/Bucharest': 4, 'Europe/Helsinki': 10, 'America/Chihuahua': 2, 'America/Rainy_River': 25, 'America/St_Kitts': 1, 'Australia/Queensland': 1, 'America/Vancouver': 12, 'Europe/Budapest': 5, 'Europe/Brussels': 4, 'Asia/Dubai': 4, 'America/Costa_Rica': 1, 'America/Mexico_City': 15, 'Asia/Novosibirsk': 1, 'America/Argentina/Cordoba': 1, 'Europe/Madrid': 35, 'Europe/Vilnius': 2, 'Asia/Karachi': 3, 'Europe/Berlin': 28, 'Asia/Nicosia': 1, 'Europe/Copenhagen': 5, 'Asia/Pontianak': 1, 'Europe/Uzhgorod': 1})\n"
     ]
    }
   ],
   "source": [
    "counts=get_count(time_zones)\n",
    "print(counts)"
   ]
  },
  {
   "cell_type": "code",
   "execution_count": null,
   "metadata": {
    "collapsed": true
   },
   "outputs": [],
   "source": []
  }
 ],
 "metadata": {
  "kernelspec": {
   "display_name": "Python 3",
   "language": "python",
   "name": "python3"
  },
  "language_info": {
   "codemirror_mode": {
    "name": "ipython",
    "version": 3
   },
   "file_extension": ".py",
   "mimetype": "text/x-python",
   "name": "python",
   "nbconvert_exporter": "python",
   "pygments_lexer": "ipython3",
   "version": "3.5.3"
  }
 },
 "nbformat": 4,
 "nbformat_minor": 2
}
