{
 "cells": [
  {
   "cell_type": "code",
   "execution_count": 2,
   "metadata": {},
   "outputs": [],
   "source": [
    "import requests as rqs\n",
    "from pyquery import PyQuery as pq\n",
    "import re\n",
    "import xmlrpc.client as rpc\n",
    "from pprint import pprint\n",
    "import time"
   ]
  },
  {
   "cell_type": "code",
   "execution_count": 13,
   "metadata": {},
   "outputs": [],
   "source": [
    "url = 'http://www.888tv.co/video/17/%E8%8B%A5%E6%9D%BE%E7%8E%B2%E9%82%A3-%E3%82%8F%E3%81%8B%E3%81%BE%E3%81%A4%E3%82%8C%E3%81%AA-%E7%84%A1%E7%9F%A5%E3%81%AA%E8%B2%A7%E4%B9%B3%E7%BE%8E%E5%B0%91%E5%A5%B3%E3%81%AB%E6%80%A7%E3%81%AE%E6%89%8B%E3%81%BB%E3%81%A9%E3%81%8D-%E3%81%AA%E3%82%93%E3%81%8B%E3%83%89%E3%82%AF%E3%83%89%E3%82%AF%E5%87%BA%E3%81%A6%E3%81%8D%E3%81%A1%E3%82%83%E3%81%A3%E3%81%9F-%E8%8B%A5%E6%9D%BE%E7%8E%B2%E9%82%A3-0920'\n",
    "user_agent = 'Mozilla/5.0 (Windows NT 10.0; Win64; x64) AppleWebKit/537.36 (KHTML, like Gecko) Chrome/71.0.3578.98 Safari/537.36'\n",
    "header = {'user-agent': user_agent}"
   ]
  },
  {
   "cell_type": "code",
   "execution_count": 14,
   "metadata": {},
   "outputs": [
    {
     "name": "stdout",
     "output_type": "stream",
     "text": [
      "<!DOCTYPE html> <html lang=\"en\"> <head prefix=\"og: http://ogp.me/ns#\"> <meta property=\"og:site_name\" content=\"千百撸\"> <meta property=\"og:title\" content=\"若松玲那【わかまつれな】 無知な貧乳美少女に性の手ほどき～なんかドクドク出てきちゃった～ - 若松玲那 0920\"> <meta property=\"og:url\" content=\"//www.888tv.co/video/17/若松玲那-わかまつれな-無知な貧乳美少女に性の手ほどき-なんかドクドク出てきちゃった-若松玲那-0920\"> <meta property=\"og:type\" content=\"video\"> <meta property=\"og:image\" content=\"http://120.52.51.30/cdn.cache2.us/media/videos/tmb/17/default.jpg\"> <meta property=\"og:description\" content=\"小さい頃、田舎でよく一緒に遊んだ親戚の玲那が東京へ遊びに来た。相変わらず無邪気で可愛い。手を滑らせてお茶をこぼしてしまい、「濡れてない？」と突然アソコを掴んで触り出した。少しビックリしたが、そのうちペロペロ舐め始めたのでその小さい口の中にたっぷり発射! 性の知識が全くない玲那は「白い苦いの出たよ」と興味津々。無知なままカラダだけはしっかり育ち、キュっとくびれた腰からプリップリ美尻への曲線美は最高にエロいです。イクことを覚え、肉棒がおまんこに出入りする気持ち良さを知ってしまった玲那にありとあらゆる体位を体験させてあげました!\"> <meta property=\"video:tag\" content=\"美脚\"> <meta property=\"video:tag\" content=\"AV女優\"> <meta property=\"video:tag\" content=\"スレンダー\"> <meta property=\"video:tag\" content=\"美尻\"> <meta property=\"video:tag\" content=\"中出し\"> <meta property=\"video:tag\" content=\"バック\"> <meta property=\"video:tag\" content=\"オナニー\"> <meta property=\"video:tag\" content=\"おもちゃ\"> <meta property=\"video:tag\" content=\"フェラ抜き\"> <meta property=\"video:tag\" content=\"69\"> <meta property=\"video:tag\" content=\"騎乗位\"> <meta property=\"video:tag\" content=\"親戚\"> <meta property=\"video:tag\" content=\"田舎者\"> <meta property=\"video:tag\" content=\"無邪気\"> <meta property=\"video:tag\" content=\"美くびれ\"> <meta property=\"video:tag\" content=\"電マ\"> <meta property=\"video:tag\" content=\"駅弁\"> <meta property=\"video:tag\" content=\"heyzo\"> <meta property=\"video:tag\" content=\"0920\"> <meta property=\"video:tag\" content=\"若松玲那\"> <script src=\"/cdn-cgi/apps/head/kFHjh2zskvIXplO6A3JUwR8s1wQ.js\"></script><script type=\"text/javascript\">\n",
      "\tvar player_autoplay = \"0\";\n",
      "\tvar player_resolution = \"high\";\t\n",
      "\tvar player_timeline_preview = \"1\";\t\t\n",
      "\tvar player_sprite = \"http://120.52.51.30/cdn.cache2.us/media/videos/tmb/17/sprite.jpg\";\n",
      "\tvar player_logo = \"1\";\n",
      "\tvar player_logo_redirect = \"1\";\n",
      "\tvar player_logo_position = \"top-right\";\n",
      "\tvar player_logo_link = \"\";\t\n",
      "\tif (player_logo_link == '') {\n",
      "\t\tplayer_logo_link = \"//www.888tv.co/video/17/若松玲那-わかまつれな-無知な貧乳美少女に性の手ほどき-なんかドクドク出てきちゃった-若松玲那-0920\";\n",
      "\t}\n",
      "\tvar player_logo_image = \"//www.888tv.co/media/player/logo/logo.png\";\t\n",
      "\tvar player_logo_opacity = \"40\";\n",
      "\tvar player_pause_adv = \"1\";\n",
      "\tvar video_duration = \"3868\";\t\n",
      "\tvar video_id = \"17\";\n",
      "\tvar base_url = \"//www.888tv.co\";\t\n",
      "\tvar aid = \"\";\n",
      "</script> <title>若松玲那【わかまつれな】 無知な貧乳美少女に性の手ほどき～なんかドクドク出てきちゃった～ - 若松玲那 0920 - 千百撸</title> <meta charset=\"utf-8\"> <meta http-equiv=\"X-UA-Compatible\" content=\"IE=edge\"> <meta name=\"viewport\" content=\"width=device-width, initial-scale=1, maximum-scale=1, user-scalable=no\"> <meta http-equiv=\"Content-Type\" content=\"text/html; charset=utf-8\" /> <meta name=\"robots\" content=\"index, follow\" /> <meta name=\"revisit-after\" content=\"1 days\" /> <meta name=\"keywords\" content=\"美脚, AV女優, スレンダー, 美尻, 中出し, バック, オナニー, おもちゃ, フェラ抜き, 69, 騎乗位, 親戚, 田舎者, 無邪気, 美くびれ, 電マ, 駅弁, heyzo, 0920, 若松玲那\" /> <meta name=\"description\" content=\"若松玲那【わかまつれな】 無知な貧乳美少女に性の手ほどき～なんかドクドク出てきちゃった～ - 若松玲那 0920\" /> <link rel=\"Shortcut Icon\" type=\"image/ico\" href=\"http://120.52.51.30/cdn.cache2.us/favicon.ico\" /> <link rel=\"apple-touch-icon\" href=\"http://120.52.51.30/cdn.cache2.us/templates/frontend/dark-corai/img/webapp-icon.png\"> <script type=\"text/javascript\">\n",
      "    var base_url = \"//www.888tv.co\";\n",
      "    var cdn_url = \"http://120.52.51.30/cdn.cache2.us\";\n",
      "\tvar max_thumb_folders = \"32000\";\n",
      "    var tpl_url = \"http://120.52.51.30/cdn.cache2.us/templates/frontend/dark-corai\";\n",
      "\tvar video_id = \"17\";\tvar lang_deleting = \"删除...\";\n",
      "\tvar lang_flaging = \"标记中...\";\n",
      "\tvar lang_loading = \"加载中...\";\n",
      "\tvar lang_sending = \"发送...\";\n",
      "\tvar lang_share_name_empty = \"请输入您的名字!\";\n",
      "\tvar lang_share_rec_empty = \"请至少输入一个收件人的电子邮件!\";\n",
      "\tvar fb_signin = \"0\";\n",
      "\tvar fb_appid = \"\";\n",
      "\tvar g_signin = \"0\";\n",
      "\tvar g_cid = \"\";\n",
      "\tvar signup_section = false;\n",
      "\tvar relative = \"\";\n",
      "\t</script> <script src=\"//mat1.gtimg.com/libs/jquery/1.11.1/jquery.min.js\"></script> <link href=\"http://120.52.51.30/cdn.cache2.us/templates/frontend/dark-corai/css/bootstrap.css\" rel=\"stylesheet\"> <link href=\"http://120.52.51.30/cdn.cache2.us/templates/frontend/dark-corai/css/style.css\" rel=\"stylesheet\"> <link href=\"http://120.52.51.30/cdn.cache2.us/templates/frontend/dark-corai/css/responsive.css\" rel=\"stylesheet\"> <link href=\"http://120.52.51.30/cdn.cache2.us/templates/frontend/dark-corai/css/font-awesome.min.css\" rel=\"stylesheet\"> <link href=\"http://120.52.51.30/cdn.cache2.us/templates/frontend/dark-corai/css/colors.css\" rel=\"stylesheet\"> <link href=\"http://120.52.51.30/cdn.cache2.us/media/player/videojs/video-js.css\" rel=\"stylesheet\"> <link href=\"http://120.52.51.30/cdn.cache2.us/media/player/videojs/plugins/videojs-resolution-switcher-master/lib/videojs-resolution-switcher.css\" rel=\"stylesheet\"> <link href=\"http://120.52.51.30/cdn.cache2.us/media/player/videojs/plugins/videojs-logobrand-master/src/videojs.logobrand.css\" rel=\"stylesheet\"> <link href=\"http://120.52.51.30/cdn.cache2.us/media/player/videojs/plugins/videojs-thumbnails-master/videojs.thumbnails.css\" rel=\"stylesheet\"> <link href=\"http://120.52.51.30/cdn.cache2.us/media/player/videojs/video-js-custom.css\" rel=\"stylesheet\"> <script src=\"http://120.52.51.30/cdn.cache2.us/media/player/videojs/ie8/videojs-ie8.min.js\"></script> <script src=\"/media/player/videojs/video.js\"></script> <script src=\"http://120.52.51.30/cdn.cache2.us/media/player/videojs/videojs-contrib-hls.js\" type=\"text/javascript\"></script> <script src=\"http://120.52.51.30/cdn.cache2.us/media/player/videojs/plugins/videojs-resolution-switcher-master/lib/videojs-resolution-switcher.js\"></script> <script src=\"http://120.52.51.30/cdn.cache2.us/media/player/videojs/plugins/videojs-logobrand-master/src/videojs.logobrand.js\"></script> <script src=\"http://120.52.51.30/cdn.cache2.us/media/player/videojs/plugins/videojs-thumbnails-master/videojs.thumbnails.js\"></script> </head> <body> <div class=\"modal fade in\" id=\"login-modal\"> <div class=\"modal-dialog login-modal\"> <div class=\"modal-content\"> <form name=\"login_form\" method=\"post\" action=\"/login\"> <div class=\"modal-header\"> <button type=\"button\" class=\"close\" data-dismiss=\"modal\" aria-hidden=\"true\">&times;</button> <h4 class=\"modal-title\">会员登录</h4> </div> <div class=\"modal-body\"> <center> <div class=\"m-b-5\"></div> </center> <div class=\"form-group\"> <label for=\"login_username\" class=\"control-label\">用户名:</label> <input name=\"username\" type=\"text\" value=\"\" id=\"login_username\" class=\"form-control\" /> </div> <div class=\"form-group\"> <label for=\"login_password\" class=\"control-label\">密码:</label> <input name=\"password\" type=\"password\" value=\"\" id=\"login_password\" class=\"form-control\" /> </div> <a href=\"/lost\" id=\"lost_password\">忘记用户名或密码？</a><br /> <a href=\"/confirm\" id=\"confirmation_email\">没有收到确认邮件？</a> </div> <div class=\"modal-footer\"> <button name=\"submit_login\" id=\"login_submit\" type=\"submit\" class=\"btn btn-primary\">登录</button> <a href=\"/signup\" class=\"btn btn-secondary\">注册</a> </div> </form> </div> </div> </div> <div class=\"modal fade in\" id=\"language-modal\"> <div class=\"modal-dialog language-modal\"> <div class=\"modal-content\"> <div class=\"modal-header\"> <button type=\"button\" class=\"close\" data-dismiss=\"modal\" aria-hidden=\"true\">&times;</button> <h4 class=\"modal-title\">选择语言</h4> </div> <div class=\"modal-body\"> <div class=\"row\"> <div class=\"col-xs-6 col-sm-4\"> <a href=\"#\" id=\"en_US\" class=\"change-language\">English</a> </div> <div class=\"col-xs-6 col-sm-4\"> <a href=\"#\" id=\"fr_FR\" class=\"change-language\">Français</a> </div> <div class=\"col-xs-6 col-sm-4\"> <a href=\"#\" id=\"de_DE\" class=\"change-language\">Deutsch</a> </div> <div class=\"col-xs-6 col-sm-4\"> <a href=\"#\" id=\"nl_NL\" class=\"change-language\">Dutch</a> </div> <div class=\"col-xs-6 col-sm-4\"> <a href=\"#\" id=\"es_ES\" class=\"change-language\">Español</a> </div> <div class=\"col-xs-6 col-sm-4\"> <a href=\"#\" id=\"it_IT\" class=\"change-language\">Italiano</a> </div> <div class=\"col-xs-6 col-sm-4\"> <a href=\"#\" id=\"pt_PT\" class=\"change-language\">Português</a> </div> <div class=\"col-xs-6 col-sm-4\"> <a href=\"#\" id=\"pt_BR\" class=\"change-language\">Português</a> </div> <div class=\"col-xs-6 col-sm-4\"> <a href=\"#\" id=\"ru_RU\" class=\"change-language\">русский</a> </div> <div class=\"col-xs-6 col-sm-4\"> <a href=\"#\" id=\"sa_SA\" class=\"change-language\">العربية</a> </div> <div class=\"col-xs-6 col-sm-4\"> <a href=\"#\" id=\"he_IL\" class=\"change-language\">עִבְרִית</a> </div> <div class=\"col-xs-6 col-sm-4\"> <a href=\"#\" id=\"jp_JP\" class=\"change-language\">日本語</a> </div> <div class=\"col-xs-6 col-sm-4\"> <span class=\"change-language language-active\">中文简体</span> </div> <div class=\"col-xs-6 col-sm-4\"> <a href=\"#\" id=\"cn_CT\" class=\"change-language\">中文 繁體</a> </div> <div class=\"col-xs-6 col-sm-4\"> <a href=\"#\" id=\"tr_TR\" class=\"change-language\">Türkçe</a> </div> <div class=\"col-xs-6 col-sm-4\"> <a href=\"#\" id=\"dk_DK\" class=\"change-language\">Dansk</a> </div> <div class=\"col-xs-6 col-sm-4\"> <a href=\"#\" id=\"no_NO\" class=\"change-language\">Norsk</a> </div> <div class=\"col-xs-6 col-sm-4\"> <a href=\"#\" id=\"cz_CZ\" class=\"change-language\">Český</a> </div> <div class=\"col-xs-6 col-sm-4\"> <a href=\"#\" id=\"bn_BD\" class=\"change-language\">বাংলা</a> </div> <div class=\"col-xs-6 col-sm-4\"> <a href=\"#\" id=\"ro_RO\" class=\"change-language\">Română</a> </div> <div class=\"col-xs-6 col-sm-4\"> <a href=\"#\" id=\"pl_PL\" class=\"change-language\">Polski</a> </div> <div class=\"col-xs-6 col-sm-4\"> <a href=\"#\" id=\"hu_HU\" class=\"change-language\">Magyar</a> </div> <div class=\"col-xs-6 col-sm-4\"> <a href=\"#\" id=\"ba_BA\" class=\"change-language\">Bosanski</a> </div> <div class=\"col-xs-6 col-sm-4\"> <a href=\"#\" id=\"hr_HR\" class=\"change-language\">Hrvatski</a> </div> <div class=\"col-xs-6 col-sm-4\"> <a href=\"#\" id=\"rs_RS\" class=\"change-language\">Srpski</a> </div> <div class=\"col-xs-6 col-sm-4\"> <a href=\"#\" id=\"si_SI\" class=\"change-language\">Slovenski</a> </div> </div> <form name=\"languageSelect\" id=\"languageSelect\" method=\"post\" action=\"\"> <input name=\"language\" id=\"language\" type=\"hidden\" value=\"\" /> </form> </div> </div> </div> </div> <div class=\"top-nav\"> <div class=\"container\"> <ul class=\"top-menu\"> <div class=\"pull-left\"> <li><a data-toggle=\"modal\" href=\"#language-modal\">CN <span class=\"caret\"></span></a></li> </div> <div class=\"pull-right\"> <li><a href=\"/signup\" rel=\"nofollow\">注册</a></li> <li><a data-toggle=\"modal\" href=\"#login-modal\">登录</a></li> <li><a href=\"https://1100app.com\" rel=\"nofollow\">APP</a></li> </div> <div class=\"clearfix\"></div> </ul> </div> </div> <div class=\"navbar navbar-inverse navbar-fixed-top\" role=\"navigation\"> <div class=\"container\"> <div class=\"navbar-header\"> <button type=\"button\" class=\"navbar-toggle\" data-toggle=\"collapse\" data-target=\".navbar-inverse-collapse\"> <span class=\"sr-only\">Toggle navigation</span> <span class=\"icon-bar\"></span> <span class=\"icon-bar\"></span> <span class=\"icon-bar\"></span> </button> <a class=\"navbar-brand\" href=\"/\"><img src=\"/images/logo/logo.png\"></a> </div> <div class=\"navbar-collapse collapse navbar-inverse-collapse\"> <ul class=\"nav navbar-nav navbar-right\"> <li class=\"active\"><a href=\"/videos\">课程</a></li> <li class=\"dropdown visible-sm hidden-xs hidden-md hidden-lg\"> <a href=\"#\" class=\"dropdown-toggle\" data-toggle=\"dropdown\">更多 <b class=\"caret\"></b></a> <ul class=\"dropdown-menu\"> <li><a href=\"/categories\">类别</a></li> <li><a href=\"/community\">社区</a></li> </ul> </li> <li class=\"hidden-sm\"><a href=\"/categories\">类别</a></li> <li class=\"hidden-sm\"><a href=\"/community\">社区</a></li> <li class=\"dropdown\"> <a href=\"#\" class=\"dropdown-toggle\" data-toggle=\"dropdown\"><i class=\"fa fa-search\"></i></a> <ul class=\"dropdown-menu search-dropdown-menu\"> <form class=\"form-inline\" name=\"search\" id=\"search_form\" method=\"get\" action=\"/search/videos\"> <div class=\"input-group\"> <input type=\"text\" class=\"form-control\" placeholder=\"搜索\" name=\"search_query\" id=\"search_query\" value=\"\"> <span class=\"search-select input-group-addon\"> <select class=\"form-control\" id=\"search_type\"> <option value=\"videos\">课程</option> <option value=\"users\">用户</option> </select> </span> <span class=\"input-group-btn\"> <button type=\"submit\" class=\"btn btn-primary\"><i class=\"fa fa-search\"></i></button> </span> </div> </form> </ul> </li> <li><button type=\"button\" class=\"btn btn-primary navbar-btn m-l-15 m-r-15\" onclick=\"location.href='/upload'\">上传</button></li> </ul> </div> </div> </div> <div id=\"wrapper\"><script type=\"text/javascript\">\n",
      "var lang_favoriting = \"加入最爱中 ...\";\n",
      "var lang_posting = \"张贴...\";\n",
      "var video_width = \"640\";\n",
      "var video_height = \"360\";\n",
      "var evideo_vkey = \"3f22221b8c17ff9dab13\";\n",
      "\n",
      "$( document ).ready(function() {\n",
      "\n",
      "    var evdiv = $('.video-embedded');\n",
      "\tvar ewidth = evdiv.width();\n",
      "\teheight =  Math.round(ewidth / 1.777);\n",
      "\tevdiv.css(\"height\" , eheight);\n",
      "\n",
      "\t$(window).resize(function() {\n",
      "\tvar evwidth = $('.video-embedded').width();\n",
      "\tevheight =  Math.round(evwidth / 1.777);\n",
      "\t$('.video-embedded').css(\"height\" , evheight);\t\n",
      "\t});\t\n",
      "});\n",
      "\n",
      "\n",
      "</script> <script type=\"text/javascript\" src=\"/templates/frontend/dark-corai/js/jquery.video-0.2.js\"></script> <script type=\"text/javascript\" src=\"/templates/frontend/dark-corai/js/jquery.voting-video-0.1.js\"></script> <div class=\"container\"> <div class=\"row\"> <div class=\"col-md-8\"> <h3 class=\"hidden-xs big-title-truncate m-t-0\">若松玲那【わかまつれな】 無知な貧乳美少女に性の手ほどき～なんかドクドク出てきちゃった～ - 若松玲那 0920</h3> <h4 class=\"visible-xs big-title-truncate m-t-0\">若松玲那【わかまつれな】 無知な貧乳美少女に性の手ほどき～なんかドクドク出てきちゃった～ - 若松玲那 0920</h4> </div> </div> <div class=\"row\"> <div class=\"col-md-8\"> <div> <div class=\"video-container\"> <video id=\"video\" class=\"video-js vjs-16-9 vjs-big-play-centered vjs-sublime-skin\" preload=\"auto\" controls poster=\"http://120.52.51.30/cdn.cache2.us/media/videos/tmb/17/1.jpg\" data-setup='{}'> <source src=\"//m3u8.361lu.com/us.php?key=aDlVbE02RENLMVZIV0ZTRUc1T1IvSTd1NjV2SU1QbFF4UG00a3pGbm1ZS2p5ek13OUxqZyszZk1kSjNDdU1sektnZ01lUGxPR1RPS2kxZi9Za3Brd2lPelVjRkd6bTh0WkRJWmJRNEJxTXRrRHNNQ1JvSE04UUcxU0J6NXhFck1kdEplcWQyWEdsdWRJOGtZK002Wmhld2VnR2tkQ2tnK01NV1VpTldXZG1vPQ==&hash=82bdb3df9cdd78da558a10eb394c91df76e14920af97f5bd5be8905bb3196939fbb654b6462851632b89808758e42f6d0ba61af46893349e9e046719af217412\" type='application/x-mpegURL' label='HD_US' res='720'/> <source src=\"//m3u8.361lu.com/cn.php?key=aDlVbE02RENLMVZIV0ZTRUc1T1IvSTd1NjV2SU1QbFF4UG00a3pGbm1ZS2p5ek13OUxqZyszZk1kSjNDdU1sektnZ01lUGxPR1RPS2kxZi9Za3Brd2lPelVjRkd6bTh0WkRJWmJRNEJxTXRrRHNNQ1JvSE04UUcxU0J6NXhFck1kdEplcWQyWEdsdWRJOGtZK002Wmhld2VnR2tkQ2tnK01NV1VpTldXZG1vPQ==&hash=82bdb3df9cdd78da558a10eb394c91df76e14920af97f5bd5be8905bb3196939fbb654b6462851632b89808758e42f6d0ba61af46893349e9e046719af217412\" type='application/x-mpegURL' label='HD_CN' res='720'/> <p class=\"vjs-no-js\">To view this video please enable JavaScript, and consider upgrading to a web browser that <a href=\"http://videojs.com/html5-video-support/\" target=\"_blank\">supports HTML5 video</a></p> </video> </div> </div> <div class=\"vote-box col-xs-7 col-sm-2 col-md-2\"> <div class=\"dislikes \"> <div id=\"video_rate\" class=\"likes\" style=\"width: 78%;\"></div> </div> <div id=\"vote_msg\" class=\"vote-msg\"> <div class=\"pull-left\"> <i class=\"glyphicon glyphicon-thumbs-up\"></i> <span id=\"video_likes\" class=\"text-white\">517</span> </div> <div class=\"pull-right\"> <i class=\"glyphicon glyphicon-thumbs-down\"></i> <span id=\"video_dislikes\" class=\"text-white\">146</span> </div> <div class=\"clearfix\"></div> </div> </div> <div class=\"pull-right visible-xs\"> <div class=\"pull-left m-t-15\"> <a href=\"#\" class=\"btn btn-primary\" id=\"vote_like_17\" ><i class=\"glyphicon glyphicon-thumbs-up\"></i></a> <a href=\"#\" class=\"btn btn-primary\" id=\"vote_dislike_17\"><i class=\"glyphicon glyphicon-thumbs-down\"></i></a> </div> </div> <div class=\"clearfix visible-xs\"></div> <div class=\"pull-left m-l-5 hidden-xs\"> <div class=\"pull-left m-t-15\"> <a href=\"#\" class=\"btn btn-primary\" id=\"vote_like_17\" ><i class=\"glyphicon glyphicon-thumbs-up\"></i></a> <a href=\"#\" class=\"btn btn-primary\" id=\"vote_dislike_17\"><i class=\"glyphicon glyphicon-thumbs-down\"></i></a> </div> </div> <div class=\"pull-right m-t-15\"> <div id=\"embed_video\" class=\"pull-right m-r-5\"><a href=\"#embed_video\" class=\"btn btn-default\"><i class=\"glyphicon glyphicon-link\"></i> <span class=\"hidden-xs\">嵌入</span></a></div> <div class=\"clearfix\"></div> </div> <div class=\"pull-right m-t-15 m-r-5\"> <div class=\"btn-group\"> <button type=\"button\" class=\"btn btn-default dropdown-toggle\" data-toggle=\"dropdown\"><i class=\"glyphicon glyphicon-download-alt\"></i><span class=\"hidden-xs hidden-sm hidden-sm hidden-md hidden-lg\"> 下载</span> <span class=\"caret\"></span></button> <ul class=\"dropdown-menu\"> <li><a href=\"//www.888tv.co/download_hd.php?id=17\">HD (MP4)</a></li> </ul> </div> </div> <div class=\"clearfix\"></div> <div id=\"response_message\" style=\"display: none;\"></div> <div id=\"embed_video_box\" class=\"m-t-15\" style=\"display: none;\"> <a href=\"#close_embed\" id=\"close_embed\" class=\"close\">&times;</a> <div class=\"separator\">课程代码</div> <div class=\"form-horizontal\"> <div class=\"form-group\"> <label for=\"video_embed_code\" class=\"col-lg-3 control-label\">嵌入代码</label> <div class=\"col-lg-9\"> <textarea name=\"video_embed_code\" rows=\"4\" id=\"video_embed_code\" class=\"form-control\"><iframe width=\"720\" height=\"405\" src=\"http://v.cache10.us/embed/3f22221b8c17ff9dab13\" frameborder=\"0\" allowfullscreen></iframe>\n",
      "</textarea> </div> </div> <div id=\"custom_size\" class=\"form-group\"> <label for=\"custom_width\" class=\"col-lg-3 control-label\">自定义尺寸</label> <div class=\"col-lg-9\"> <div class=\"pull-left\"> <input id=\"custom_width\" type=\"text\" class=\"form-control\" value=\"\" placeholder=\"宽度\" style=\"width: 100px!important;\"/> </div> <div class=\"pull-left m-l-5 m-r-5\" style=\"line-height: 38px;\">\n",
      "\t\t\t\t\t\t\t\t\t&times;\n",
      "\t\t\t\t\t\t\t\t</div> <div class=\"pull-left m-r-15\"> <input id=\"custom_height\" type=\"text\" class=\"form-control\" value=\"\" placeholder=\"高度\" style=\"width: 100px!important;\"/> </div> <div class=\"pull-left\" style=\"line-height: 38px;\">\n",
      "\t\t\t\t\t\t\t\t\t(分钟: 320 &times; 180)\n",
      "\t\t\t\t\t\t\t\t</div> </div> </div> </div> </div> <div class=\"separator m-t-15 p-0\"></div> <div class=\"pull-left user-container\"> <a href=\"/user/anonymous\"><img class=\"medium-avatar\" src=\"/media/users/nopic-Male.gif\" /><span>anonymous</span></a> </div> <div class=\"pull-right big-views hidden-xs\"> <span class=\"text-white\">46 天 之前</span>,\n",
      "\t\t\t\t\t<span class=\"text-white\">11924</span> 人观看\t\t\t\t</div> <div class=\"pull-right big-views-xs visible-xs\"> <span class=\"text-white\">46 天 之前</span>,\n",
      "\t\t\t\t\t<span class=\"text-white\">11924</span> 人观看\t\t\t\t\t\n",
      "\t\t\t\t</div> <div class=\"clearfix\"></div> <div class=\"m-t-10 overflow-hidden\">\n",
      "\t\t\t\t\t\t小さい頃、田舎でよく一緒に遊んだ親戚の玲那が東京へ遊びに来た。相変わらず無邪気で可愛い。手を滑らせてお茶をこぼしてしまい、「濡れてない？」と突然アソコを掴んで触り出した。少しビックリしたが、そのうちペロペロ舐め始めたのでその小さい口の中にたっぷり発射! 性の知識が全くない玲那は「白い苦いの出たよ」と興味津々。無知なままカラダだけはしっかり育ち、キュっとくびれた腰からプリップリ美尻への曲線美は最高にエロいです。イクことを覚え、肉棒がおまんこに出入りする気持ち良さを知ってしまった玲那にありとあらゆる体位を体験させてあげました!\n",
      "\t\t\t\t\t</div> <div class=\"m-t-10 overflow-hidden\">\n",
      "\t\t\t\t\t\t\t\t\t\t标签:\n",
      "\t\t\t\t\t\t\t\t\t\t\t<a class=\"tag\" href=\"/search/videos?search_query=美脚\">美脚</a>,\t\t\t\t\t\t\t\t\t\t\t<a class=\"tag\" href=\"/search/videos?search_query=AV女優\">AV女優</a>,\t\t\t\t\t\t\t\t\t\t\t<a class=\"tag\" href=\"/search/videos?search_query=スレンダー\">スレンダー</a>,\t\t\t\t\t\t\t\t\t\t\t<a class=\"tag\" href=\"/search/videos?search_query=美尻\">美尻</a>,\t\t\t\t\t\t\t\t\t\t\t<a class=\"tag\" href=\"/search/videos?search_query=中出し\">中出し</a>,\t\t\t\t\t\t\t\t\t\t\t<a class=\"tag\" href=\"/search/videos?search_query=バック\">バック</a>,\t\t\t\t\t\t\t\t\t\t\t<a class=\"tag\" href=\"/search/videos?search_query=オナニー\">オナニー</a>,\t\t\t\t\t\t\t\t\t\t\t<a class=\"tag\" href=\"/search/videos?search_query=おもちゃ\">おもちゃ</a>,\t\t\t\t\t\t\t\t\t\t\t<a class=\"tag\" href=\"/search/videos?search_query=フェラ抜き\">フェラ抜き</a>,\t\t\t\t\t\t\t\t\t\t\t<a class=\"tag\" href=\"/search/videos?search_query=69\">69</a>,\t\t\t\t\t\t\t\t\t\t\t<a class=\"tag\" href=\"/search/videos?search_query=騎乗位\">騎乗位</a>,\t\t\t\t\t\t\t\t\t\t\t<a class=\"tag\" href=\"/search/videos?search_query=親戚\">親戚</a>,\t\t\t\t\t\t\t\t\t\t\t<a class=\"tag\" href=\"/search/videos?search_query=田舎者\">田舎者</a>,\t\t\t\t\t\t\t\t\t\t\t<a class=\"tag\" href=\"/search/videos?search_query=無邪気\">無邪気</a>,\t\t\t\t\t\t\t\t\t\t\t<a class=\"tag\" href=\"/search/videos?search_query=美くびれ\">美くびれ</a>,\t\t\t\t\t\t\t\t\t\t\t<a class=\"tag\" href=\"/search/videos?search_query=電マ\">電マ</a>,\t\t\t\t\t\t\t\t\t\t\t<a class=\"tag\" href=\"/search/videos?search_query=駅弁\">駅弁</a>,\t\t\t\t\t\t\t\t\t\t\t<a class=\"tag\" href=\"/search/videos?search_query=heyzo\">heyzo</a>,\t\t\t\t\t\t\t\t\t\t\t<a class=\"tag\" href=\"/search/videos?search_query=0920\">0920</a>,\t\t\t\t\t\t\t\t\t\t\t<a class=\"tag\" href=\"/search/videos?search_query=若松玲那\">若松玲那</a> </div> <div class=\"m-t-10 m-b-15\"> <script type=\"text/javascript\" src=\"//s7.addthis.com/js/300/addthis_widget.js#pubid=ra-5c0f446207a3bb4d\"></script> <div class=\"addthis_inline_share_toolbox_cul7\"></div> </div> </div> <div class=\"col-md-4\"> <div class=\"well ad-body\"> <p class=\"ad-title\">赞助商</p> </div> <div class=\"well ad-body\"> <p class=\"ad-title\">赞助商</p> </div> </div> </div> <ul class=\"nav nav-tabs\"> <li class=\"active\"><a href=\"#related_videos\" data-toggle=\"tab\">相关课程 <div class=\"badge\">32</div></a></li> <li class=\"\"><a href=\"#comments\" data-toggle=\"tab\">评论</a></li> </ul> <div class=\"tab-content m-b-20\"> <div class=\"tab-pane fade active in\" id=\"related_videos\"> <input name=\"current_page_related_videos\" type=\"hidden\" value=\"1\" id=\"current_page_related_videos\" /> <div class=\"row\"> <div class=\"col-sm-6 col-md-3 col-lg-3\"> <div class=\"well well-sm m-b-0 m-t-20\"> <a href=\"/video/1188/ときめき-至れり尽くせりのよくできた俺の彼女-030618-654\"> <div class=\"thumb-overlay\"> <img src=\"http://120.52.51.30/cdn.cache2.us/media/videos/tmb/1188/1.jpg\" title=\"ときめき〜至れり尽くせりのよくできた俺の彼女〜 - 030618_654\" alt=\"ときめき〜至れり尽くせりのよくできた俺の彼女〜 - 030618_654\" id=\"rotate_1188_20_1\" class=\"img-responsivevideo \"/> <div class=\"hd-text-icon\">HD</div> <div class=\"duration\">\n",
      "\t\t\t\t\t\t\t\t\t\t\t\t\t\t\t\t\t\t\t\t59:34\n",
      "\t\t\t\t\t\t\t\t\t</div> </div> <span class=\"video-title title-truncate m-t-5\">ときめき〜至れり尽くせりのよくできた俺の彼女〜 - 030618_654</span> </a> <div class=\"video-added\">\n",
      "\t\t\t\t\t\t\t\t\t\t\t\t\t\t\t\t4 小时 之前\n",
      "\t\t\t\t\t\t\t</div> <div class=\"video-views pull-left\">\n",
      "\t\t\t\t\t\t\t\t6035 人观看\t\t\t\t\t\t\t</div> <div class=\"video-rating pull-right \"> <i class=\"fa fa-heart video-rating-heart \"></i> <b>49%</b> </div> <div class=\"clearfix\"></div> </div> </div> <div class=\"col-sm-6 col-md-3 col-lg-3\"> <div class=\"well well-sm m-b-0 m-t-20\"> <a href=\"/video/1187/m痴女-夏希結愛-021018-643\"> <div class=\"thumb-overlay\"> <img src=\"http://120.52.51.30/cdn.cache2.us/media/videos/tmb/1187/1.jpg\" title=\"M痴女 夏希結愛 - 021018_643\" alt=\"M痴女 夏希結愛 - 021018_643\" id=\"rotate_1187_20_1\" class=\"img-responsivevideo \"/> <div class=\"hd-text-icon\">HD</div> <div class=\"duration\">\n",
      "\t\t\t\t\t\t\t\t\t\t\t\t\t\t\t\t\t\t\t\t01:05:58\n",
      "\t\t\t\t\t\t\t\t\t</div> </div> <span class=\"video-title title-truncate m-t-5\">M痴女 夏希結愛 - 021018_643</span> </a> <div class=\"video-added\">\n",
      "\t\t\t\t\t\t\t\t\t\t\t\t\t\t\t\t5 小时 之前\n",
      "\t\t\t\t\t\t\t</div> <div class=\"video-views pull-left\">\n",
      "\t\t\t\t\t\t\t\t5923 人观看\t\t\t\t\t\t\t</div> <div class=\"video-rating pull-right \"> <i class=\"fa fa-heart video-rating-heart \"></i> <b>18%</b> </div> <div class=\"clearfix\"></div> </div> </div> <div class=\"col-sm-6 col-md-3 col-lg-3\"> <div class=\"well well-sm m-b-0 m-t-20\"> <a href=\"/video/1184/極射-山中麗子-011118-631\"> <div class=\"thumb-overlay\"> <img src=\"http://120.52.51.30/cdn.cache2.us/media/videos/tmb/1184/1.jpg\" title=\"極射 山中麗子 - 011118_631\" alt=\"極射 山中麗子 - 011118_631\" id=\"rotate_1184_20_1\" class=\"img-responsivevideo \"/> <div class=\"hd-text-icon\">HD</div> <div class=\"duration\">\n",
      "\t\t\t\t\t\t\t\t\t\t\t\t\t\t\t\t\t\t\t\t01:00:05\n",
      "\t\t\t\t\t\t\t\t\t</div> </div> <span class=\"video-title title-truncate m-t-5\">極射 山中麗子 - 011118_631</span> </a> <div class=\"video-added\">\n",
      "\t\t\t\t\t\t\t\t\t\t\t\t\t\t\t\t8 小时 之前\n",
      "\t\t\t\t\t\t\t</div> <div class=\"video-views pull-left\">\n",
      "\t\t\t\t\t\t\t\t15907 人观看\t\t\t\t\t\t\t</div> <div class=\"video-rating pull-right \"> <i class=\"fa fa-heart video-rating-heart \"></i> <b>74%</b> </div> <div class=\"clearfix\"></div> </div> </div> <div class=\"col-sm-6 col-md-3 col-lg-3\"> <div class=\"well well-sm m-b-0 m-t-20\"> <a href=\"/video/1183/レズビアン大乱交-ゆうき美羽-西園さくや-010118-626\"> <div class=\"thumb-overlay\"> <img src=\"http://120.52.51.30/cdn.cache2.us/media/videos/tmb/1183/1.jpg\" title=\"レズビアン大乱交〜ゆうき美羽&amp;西園さくや〜 - 010118_626\" alt=\"レズビアン大乱交〜ゆうき美羽&amp;西園さくや〜 - 010118_626\" id=\"rotate_1183_20_1\" class=\"img-responsivevideo \"/> <div class=\"hd-text-icon\">HD</div> <div class=\"duration\">\n",
      "\t\t\t\t\t\t\t\t\t\t\t\t\t\t\t\t\t\t\t\t01:07:04\n",
      "\t\t\t\t\t\t\t\t\t</div> </div> <span class=\"video-title title-truncate m-t-5\">レズビアン大乱交〜ゆうき美羽&amp;西園さくや〜 - 010118_626</span> </a> <div class=\"video-added\">\n",
      "\t\t\t\t\t\t\t\t\t\t\t\t\t\t\t\t9 小时 之前\n",
      "\t\t\t\t\t\t\t</div> <div class=\"video-views pull-left\">\n",
      "\t\t\t\t\t\t\t\t10276 人观看\t\t\t\t\t\t\t</div> <div class=\"video-rating pull-right \"> <i class=\"fa fa-heart video-rating-heart \"></i> <b>68%</b> </div> <div class=\"clearfix\"></div> </div> </div> <div class=\"col-sm-6 col-md-3 col-lg-3\"> <div class=\"well well-sm m-b-0 m-t-20\"> <a href=\"/video/1181/濃厚な接吻と肉体の交わり-こころ-122917-624\"> <div class=\"thumb-overlay\"> <img src=\"http://120.52.51.30/cdn.cache2.us/media/videos/tmb/1181/1.jpg\" title=\"濃厚な接吻と肉体の交わり こころ - 122917_624\" alt=\"濃厚な接吻と肉体の交わり こころ - 122917_624\" id=\"rotate_1181_20_1\" class=\"img-responsivevideo \"/> <div class=\"hd-text-icon\">HD</div> <div class=\"duration\">\n",
      "\t\t\t\t\t\t\t\t\t\t\t\t\t\t\t\t\t\t\t\t01:00:10\n",
      "\t\t\t\t\t\t\t\t\t</div> </div> <span class=\"video-title title-truncate m-t-5\">濃厚な接吻と肉体の交わり こころ - 122917_624</span> </a> <div class=\"video-added\">\n",
      "\t\t\t\t\t\t\t\t\t\t\t\t\t\t\t\t9 小时 之前\n",
      "\t\t\t\t\t\t\t</div> <div class=\"video-views pull-left\">\n",
      "\t\t\t\t\t\t\t\t25160 人观看\t\t\t\t\t\t\t</div> <div class=\"video-rating pull-right \"> <i class=\"fa fa-heart video-rating-heart \"></i> <b>74%</b> </div> <div class=\"clearfix\"></div> </div> </div> <div class=\"col-sm-6 col-md-3 col-lg-3\"> <div class=\"well well-sm m-b-0 m-t-20\"> <a href=\"/video/1182/モデルコレクション-斉藤良子-021118-644\"> <div class=\"thumb-overlay\"> <img src=\"http://120.52.51.30/cdn.cache2.us/media/videos/tmb/1182/1.jpg\" title=\"モデルコレクション 斉藤良子 - 021118_644\" alt=\"モデルコレクション 斉藤良子 - 021118_644\" id=\"rotate_1182_20_1\" class=\"img-responsivevideo \"/> <div class=\"hd-text-icon\">HD</div> <div class=\"duration\">\n",
      "\t\t\t\t\t\t\t\t\t\t\t\t\t\t\t\t\t\t\t\t01:06:01\n",
      "\t\t\t\t\t\t\t\t\t</div> </div> <span class=\"video-title title-truncate m-t-5\">モデルコレクション 斉藤良子 - 021118_644</span> </a> <div class=\"video-added\">\n",
      "\t\t\t\t\t\t\t\t\t\t\t\t\t\t\t\t9 小时 之前\n",
      "\t\t\t\t\t\t\t</div> <div class=\"video-views pull-left\">\n",
      "\t\t\t\t\t\t\t\t4454 人观看\t\t\t\t\t\t\t</div> <div class=\"video-rating pull-right \"> <i class=\"fa fa-heart video-rating-heart \"></i> <b>33%</b> </div> <div class=\"clearfix\"></div> </div> </div> <div class=\"col-sm-6 col-md-3 col-lg-3\"> <div class=\"well well-sm m-b-0 m-t-20\"> <a href=\"/video/1178/朝ゴミ出しする近所の遊び好きノーブラ奥さん-北条麻妃-121417-617\"> <div class=\"thumb-overlay\"> <img src=\"http://120.52.51.30/cdn.cache2.us/media/videos/tmb/1178/1.jpg\" title=\"朝ゴミ出しする近所の遊び好きノーブラ奥さん 北条麻妃 - 121417_617\" alt=\"朝ゴミ出しする近所の遊び好きノーブラ奥さん 北条麻妃 - 121417_617\" id=\"rotate_1178_20_1\" class=\"img-responsivevideo \"/> <div class=\"hd-text-icon\">HD</div> <div class=\"duration\">\n",
      "\t\t\t\t\t\t\t\t\t\t\t\t\t\t\t\t\t\t\t\t01:01:06\n",
      "\t\t\t\t\t\t\t\t\t</div> </div> <span class=\"video-title title-truncate m-t-5\">朝ゴミ出しする近所の遊び好きノーブラ奥さん 北条麻妃 - 121417_617</span> </a> <div class=\"video-added\">\n",
      "\t\t\t\t\t\t\t\t\t\t\t\t\t\t\t\t9 小时 之前\n",
      "\t\t\t\t\t\t\t</div> <div class=\"video-views pull-left\">\n",
      "\t\t\t\t\t\t\t\t18574 人观看\t\t\t\t\t\t\t</div> <div class=\"video-rating pull-right \"> <i class=\"fa fa-heart video-rating-heart \"></i> <b>71%</b> </div> <div class=\"clearfix\"></div> </div> </div> <div class=\"col-sm-6 col-md-3 col-lg-3\"> <div class=\"well well-sm m-b-0 m-t-20\"> <a href=\"/video/1179/友達のママと秘密の関係-022418-650\"> <div class=\"thumb-overlay\"> <img src=\"http://120.52.51.30/cdn.cache2.us/media/videos/tmb/1179/1.jpg\" title=\"友達のママと秘密の関係 - 022418_650\" alt=\"友達のママと秘密の関係 - 022418_650\" id=\"rotate_1179_20_1\" class=\"img-responsivevideo \"/> <div class=\"hd-text-icon\">HD</div> <div class=\"duration\">\n",
      "\t\t\t\t\t\t\t\t\t\t\t\t\t\t\t\t\t\t\t\t58:49\n",
      "\t\t\t\t\t\t\t\t\t</div> </div> <span class=\"video-title title-truncate m-t-5\">友達のママと秘密の関係 - 022418_650</span> </a> <div class=\"video-added\">\n",
      "\t\t\t\t\t\t\t\t\t\t\t\t\t\t\t\t9 小时 之前\n",
      "\t\t\t\t\t\t\t</div> <div class=\"video-views pull-left\">\n",
      "\t\t\t\t\t\t\t\t27904 人观看\t\t\t\t\t\t\t</div> <div class=\"video-rating pull-right \"> <i class=\"fa fa-heart video-rating-heart \"></i> <b>92%</b> </div> <div class=\"clearfix\"></div> </div> </div> <div class=\"col-sm-6 col-md-3 col-lg-3\"> <div class=\"well well-sm m-b-0 m-t-20\"> <a href=\"/video/1180/美人ol即ハメ-前田由美-022018-648\"> <div class=\"thumb-overlay\"> <img src=\"http://120.52.51.30/cdn.cache2.us/media/videos/tmb/1180/1.jpg\" title=\"美人OL即ハメ 前田由美 - 022018_648\" alt=\"美人OL即ハメ 前田由美 - 022018_648\" id=\"rotate_1180_20_1\" class=\"img-responsivevideo \"/> <div class=\"hd-text-icon\">HD</div> <div class=\"duration\">\n",
      "\t\t\t\t\t\t\t\t\t\t\t\t\t\t\t\t\t\t\t\t01:01:11\n",
      "\t\t\t\t\t\t\t\t\t</div> </div> <span class=\"video-title title-truncate m-t-5\">美人OL即ハメ 前田由美 - 022018_648</span> </a> <div class=\"video-added\">\n",
      "\t\t\t\t\t\t\t\t\t\t\t\t\t\t\t\t9 小时 之前\n",
      "\t\t\t\t\t\t\t</div> <div class=\"video-views pull-left\">\n",
      "\t\t\t\t\t\t\t\t23039 人观看\t\t\t\t\t\t\t</div> <div class=\"video-rating pull-right \"> <i class=\"fa fa-heart video-rating-heart \"></i> <b>81%</b> </div> <div class=\"clearfix\"></div> </div> </div> <div class=\"col-sm-6 col-md-3 col-lg-3\"> <div class=\"well well-sm m-b-0 m-t-20\"> <a href=\"/video/1176/モデルコレクション-田中美春-021518-646\"> <div class=\"thumb-overlay\"> <img src=\"http://120.52.51.30/cdn.cache2.us/media/videos/tmb/1176/1.jpg\" title=\"モデルコレクション 田中美春 - 021518_646\" alt=\"モデルコレクション 田中美春 - 021518_646\" id=\"rotate_1176_20_1\" class=\"img-responsivevideo \"/> <div class=\"hd-text-icon\">HD</div> <div class=\"duration\">\n",
      "\t\t\t\t\t\t\t\t\t\t\t\t\t\t\t\t\t\t\t\t59:23\n",
      "\t\t\t\t\t\t\t\t\t</div> </div> <span class=\"video-title title-truncate m-t-5\">モデルコレクション 田中美春 - 021518_646</span> </a> <div class=\"video-added\">\n",
      "\t\t\t\t\t\t\t\t\t\t\t\t\t\t\t\t17 小时 之前\n",
      "\t\t\t\t\t\t\t</div> <div class=\"video-views pull-left\">\n",
      "\t\t\t\t\t\t\t\t19937 人观看\t\t\t\t\t\t\t</div> <div class=\"video-rating pull-right \"> <i class=\"fa fa-heart video-rating-heart \"></i> <b>82%</b> </div> <div class=\"clearfix\"></div> </div> </div> <div class=\"col-sm-6 col-md-3 col-lg-3\"> <div class=\"well well-sm m-b-0 m-t-20\"> <a href=\"/video/1177/美マン美女-大絶叫-3p潮吹き-020618-641\"> <div class=\"thumb-overlay\"> <img src=\"http://120.52.51.30/cdn.cache2.us/media/videos/tmb/1177/1.jpg\" title=\"美マン美女〜大絶叫！3P潮吹き〜 - 020618_641\" alt=\"美マン美女〜大絶叫！3P潮吹き〜 - 020618_641\" id=\"rotate_1177_20_1\" class=\"img-responsivevideo \"/> <div class=\"hd-text-icon\">HD</div> <div class=\"duration\">\n",
      "\t\t\t\t\t\t\t\t\t\t\t\t\t\t\t\t\t\t\t\t01:00:55\n",
      "\t\t\t\t\t\t\t\t\t</div> </div> <span class=\"video-title title-truncate m-t-5\">美マン美女〜大絶叫！3P潮吹き〜 - 020618_641</span> </a> <div class=\"video-added\">\n",
      "\t\t\t\t\t\t\t\t\t\t\t\t\t\t\t\t17 小时 之前\n",
      "\t\t\t\t\t\t\t</div> <div class=\"video-views pull-left\">\n",
      "\t\t\t\t\t\t\t\t29700 人观看\t\t\t\t\t\t\t</div> <div class=\"video-rating pull-right \"> <i class=\"fa fa-heart video-rating-heart \"></i> <b>66%</b> </div> <div class=\"clearfix\"></div> </div> </div> <div class=\"col-sm-6 col-md-3 col-lg-3\"> <div class=\"well well-sm m-b-0 m-t-20\"> <a href=\"/video/1175/モデルコレクション-七瀬ともか-120217-613\"> <div class=\"thumb-overlay\"> <img src=\"http://120.52.51.30/cdn.cache2.us/media/videos/tmb/1175/1.jpg\" title=\"モデルコレクション 七瀬ともか - 120217_613\" alt=\"モデルコレクション 七瀬ともか - 120217_613\" id=\"rotate_1175_20_1\" class=\"img-responsivevideo \"/> <div class=\"hd-text-icon\">HD</div> <div class=\"duration\">\n",
      "\t\t\t\t\t\t\t\t\t\t\t\t\t\t\t\t\t\t\t\t01:04:05\n",
      "\t\t\t\t\t\t\t\t\t</div> </div> <span class=\"video-title title-truncate m-t-5\">モデルコレクション 七瀬ともか - 120217_613</span> </a> <div class=\"video-added\">\n",
      "\t\t\t\t\t\t\t\t\t\t\t\t\t\t\t\t20 小时 之前\n",
      "\t\t\t\t\t\t\t</div> <div class=\"video-views pull-left\">\n",
      "\t\t\t\t\t\t\t\t19884 人观看\t\t\t\t\t\t\t</div> <div class=\"video-rating pull-right \"> <i class=\"fa fa-heart video-rating-heart \"></i> <b>54%</b> </div> <div class=\"clearfix\"></div> </div> </div> <div class=\"col-sm-6 col-md-3 col-lg-3\"> <div class=\"well well-sm m-b-0 m-t-20\"> <a href=\"/video/1174/ときめき-裸エプロンで俺を癒してくれる最高の彼女-031018-656\"> <div class=\"thumb-overlay\"> <img src=\"http://120.52.51.30/cdn.cache2.us/media/videos/tmb/1174/1.jpg\" title=\"ときめき〜裸エプロンで俺を癒してくれる最高の彼女〜 - 031018_656\" alt=\"ときめき〜裸エプロンで俺を癒してくれる最高の彼女〜 - 031018_656\" id=\"rotate_1174_20_1\" class=\"img-responsivevideo \"/> <div class=\"hd-text-icon\">HD</div> <div class=\"duration\">\n",
      "\t\t\t\t\t\t\t\t\t\t\t\t\t\t\t\t\t\t\t\t01:03:31\n",
      "\t\t\t\t\t\t\t\t\t</div> </div> <span class=\"video-title title-truncate m-t-5\">ときめき〜裸エプロンで俺を癒してくれる最高の彼女〜 - 031018_656</span> </a> <div class=\"video-added\">\n",
      "\t\t\t\t\t\t\t\t\t\t\t\t\t\t\t\t20 小时 之前\n",
      "\t\t\t\t\t\t\t</div> <div class=\"video-views pull-left\">\n",
      "\t\t\t\t\t\t\t\t27816 人观看\t\t\t\t\t\t\t</div> <div class=\"video-rating pull-right \"> <i class=\"fa fa-heart video-rating-heart \"></i> <b>79%</b> </div> <div class=\"clearfix\"></div> </div> </div> <div class=\"col-sm-6 col-md-3 col-lg-3\"> <div class=\"well well-sm m-b-0 m-t-20\"> <a href=\"/video/1171/モデルコレクション-水鳥文乃-010318-627\"> <div class=\"thumb-overlay\"> <img src=\"http://120.52.51.30/cdn.cache2.us/media/videos/tmb/1171/1.jpg\" title=\"モデルコレクション 水鳥文乃 - 010318_627\" alt=\"モデルコレクション 水鳥文乃 - 010318_627\" id=\"rotate_1171_20_1\" class=\"img-responsivevideo \"/> <div class=\"hd-text-icon\">HD</div> <div class=\"duration\">\n",
      "\t\t\t\t\t\t\t\t\t\t\t\t\t\t\t\t\t\t\t\t01:02:07\n",
      "\t\t\t\t\t\t\t\t\t</div> </div> <span class=\"video-title title-truncate m-t-5\">モデルコレクション 水鳥文乃 - 010318_627</span> </a> <div class=\"video-added\">\n",
      "\t\t\t\t\t\t\t\t\t\t\t\t\t\t\t\t22 小时 之前\n",
      "\t\t\t\t\t\t\t</div> <div class=\"video-views pull-left\">\n",
      "\t\t\t\t\t\t\t\t40438 人观看\t\t\t\t\t\t\t</div> <div class=\"video-rating pull-right \"> <i class=\"fa fa-heart video-rating-heart \"></i> <b>65%</b> </div> <div class=\"clearfix\"></div> </div> </div> <div class=\"col-sm-6 col-md-3 col-lg-3\"> <div class=\"well well-sm m-b-0 m-t-20\"> <a href=\"/video/1173/極射-坂本美波-070718-710\"> <div class=\"thumb-overlay\"> <img src=\"http://120.52.51.30/cdn.cache2.us/media/videos/tmb/1173/1.jpg\" title=\"極射 坂本美波 - 070718_710\" alt=\"極射 坂本美波 - 070718_710\" id=\"rotate_1173_20_1\" class=\"img-responsivevideo \"/> <div class=\"hd-text-icon\">HD</div> <div class=\"duration\">\n",
      "\t\t\t\t\t\t\t\t\t\t\t\t\t\t\t\t\t\t\t\t50:17\n",
      "\t\t\t\t\t\t\t\t\t</div> </div> <span class=\"video-title title-truncate m-t-5\">極射 坂本美波 - 070718_710</span> </a> <div class=\"video-added\">\n",
      "\t\t\t\t\t\t\t\t\t\t\t\t\t\t\t\t22 小时 之前\n",
      "\t\t\t\t\t\t\t</div> <div class=\"video-views pull-left\">\n",
      "\t\t\t\t\t\t\t\t28107 人观看\t\t\t\t\t\t\t</div> <div class=\"video-rating pull-right \"> <i class=\"fa fa-heart video-rating-heart \"></i> <b>77%</b> </div> <div class=\"clearfix\"></div> </div> </div> <div class=\"col-sm-6 col-md-3 col-lg-3\"> <div class=\"well well-sm m-b-0 m-t-20\"> <a href=\"/video/1170/清純な受付嬢は淫らな雌だった-121617-618\"> <div class=\"thumb-overlay\"> <img src=\"http://120.52.51.30/cdn.cache2.us/media/videos/tmb/1170/1.jpg\" title=\"清純な受付嬢は淫らな雌だった！ - 121617_618\" alt=\"清純な受付嬢は淫らな雌だった！ - 121617_618\" id=\"rotate_1170_20_1\" class=\"img-responsivevideo \"/> <div class=\"hd-text-icon\">HD</div> <div class=\"duration\">\n",
      "\t\t\t\t\t\t\t\t\t\t\t\t\t\t\t\t\t\t\t\t01:04:58\n",
      "\t\t\t\t\t\t\t\t\t</div> </div> <span class=\"video-title title-truncate m-t-5\">清純な受付嬢は淫らな雌だった！ - 121617_618</span> </a> <div class=\"video-added\">\n",
      "\t\t\t\t\t\t\t\t\t\t\t\t\t\t\t\t1 天 之前\n",
      "\t\t\t\t\t\t\t</div> <div class=\"video-views pull-left\">\n",
      "\t\t\t\t\t\t\t\t26878 人观看\t\t\t\t\t\t\t</div> <div class=\"video-rating pull-right \"> <i class=\"fa fa-heart video-rating-heart \"></i> <b>70%</b> </div> <div class=\"clearfix\"></div> </div> </div> <div class=\"col-sm-6 col-md-3 col-lg-3\"> <div class=\"well well-sm m-b-0 m-t-20\"> <a href=\"/video/1169/m痴女-ゆうき美羽-021718-647\"> <div class=\"thumb-overlay\"> <img src=\"http://120.52.51.30/cdn.cache2.us/media/videos/tmb/1169/1.jpg\" title=\"M痴女 ゆうき美羽 - 021718_647\" alt=\"M痴女 ゆうき美羽 - 021718_647\" id=\"rotate_1169_20_1\" class=\"img-responsivevideo \"/> <div class=\"hd-text-icon\">HD</div> <div class=\"duration\">\n",
      "\t\t\t\t\t\t\t\t\t\t\t\t\t\t\t\t\t\t\t\t01:08:01\n",
      "\t\t\t\t\t\t\t\t\t</div> </div> <span class=\"video-title title-truncate m-t-5\">M痴女 ゆうき美羽 - 021718_647</span> </a> <div class=\"video-added\">\n",
      "\t\t\t\t\t\t\t\t\t\t\t\t\t\t\t\t1 天 之前\n",
      "\t\t\t\t\t\t\t</div> <div class=\"video-views pull-left\">\n",
      "\t\t\t\t\t\t\t\t67467 人观看\t\t\t\t\t\t\t</div> <div class=\"video-rating pull-right \"> <i class=\"fa fa-heart video-rating-heart \"></i> <b>83%</b> </div> <div class=\"clearfix\"></div> </div> </div> <div class=\"col-sm-6 col-md-3 col-lg-3\"> <div class=\"well well-sm m-b-0 m-t-20\"> <a href=\"/video/1167/モデルコレクション-神田るな-123017-625\"> <div class=\"thumb-overlay\"> <img src=\"http://120.52.51.30/cdn.cache2.us/media/videos/tmb/1167/1.jpg\" title=\"モデルコレクション 神田るな - 123017_625\" alt=\"モデルコレクション 神田るな - 123017_625\" id=\"rotate_1167_20_1\" class=\"img-responsivevideo \"/> <div class=\"hd-text-icon\">HD</div> <div class=\"duration\">\n",
      "\t\t\t\t\t\t\t\t\t\t\t\t\t\t\t\t\t\t\t\t01:05:28\n",
      "\t\t\t\t\t\t\t\t\t</div> </div> <span class=\"video-title title-truncate m-t-5\">モデルコレクション 神田るな - 123017_625</span> </a> <div class=\"video-added\">\n",
      "\t\t\t\t\t\t\t\t\t\t\t\t\t\t\t\t1 天 之前\n",
      "\t\t\t\t\t\t\t</div> <div class=\"video-views pull-left\">\n",
      "\t\t\t\t\t\t\t\t55924 人观看\t\t\t\t\t\t\t</div> <div class=\"video-rating pull-right \"> <i class=\"fa fa-heart video-rating-heart \"></i> <b>82%</b> </div> <div class=\"clearfix\"></div> </div> </div> <div class=\"col-sm-6 col-md-3 col-lg-3\"> <div class=\"well well-sm m-b-0 m-t-20\"> <a href=\"/video/1164/ときめき-最高に可愛いメイドに扮した俺の彼女-030318-653\"> <div class=\"thumb-overlay\"> <img src=\"http://120.52.51.30/cdn.cache2.us/media/videos/tmb/1164/1.jpg\" title=\"ときめき〜最高に可愛いメイドに扮した俺の彼女〜 - 030318_653\" alt=\"ときめき〜最高に可愛いメイドに扮した俺の彼女〜 - 030318_653\" id=\"rotate_1164_20_1\" class=\"img-responsivevideo \"/> <div class=\"hd-text-icon\">HD</div> <div class=\"duration\">\n",
      "\t\t\t\t\t\t\t\t\t\t\t\t\t\t\t\t\t\t\t\t01:04:29\n",
      "\t\t\t\t\t\t\t\t\t</div> </div> <span class=\"video-title title-truncate m-t-5\">ときめき〜最高に可愛いメイドに扮した俺の彼女〜 - 030318_653</span> </a> <div class=\"video-added\">\n",
      "\t\t\t\t\t\t\t\t\t\t\t\t\t\t\t\t1 天 之前\n",
      "\t\t\t\t\t\t\t</div> <div class=\"video-views pull-left\">\n",
      "\t\t\t\t\t\t\t\t15790 人观看\t\t\t\t\t\t\t</div> <div class=\"video-rating pull-right \"> <i class=\"fa fa-heart video-rating-heart \"></i> <b>35%</b> </div> <div class=\"clearfix\"></div> </div> </div> <div class=\"col-sm-6 col-md-3 col-lg-3\"> <div class=\"well well-sm m-b-0 m-t-20\"> <a href=\"/video/1165/ときめき-イキやすい敏感なカラダ-012018-635\"> <div class=\"thumb-overlay\"> <img src=\"http://120.52.51.30/cdn.cache2.us/media/videos/tmb/1165/1.jpg\" title=\"ときめき〜イキやすい敏感なカラダ〜 - 012018_635\" alt=\"ときめき〜イキやすい敏感なカラダ〜 - 012018_635\" id=\"rotate_1165_20_1\" class=\"img-responsivevideo \"/> <div class=\"hd-text-icon\">HD</div> <div class=\"duration\">\n",
      "\t\t\t\t\t\t\t\t\t\t\t\t\t\t\t\t\t\t\t\t01:00:04\n",
      "\t\t\t\t\t\t\t\t\t</div> </div> <span class=\"video-title title-truncate m-t-5\">ときめき〜イキやすい敏感なカラダ〜 - 012018_635</span> </a> <div class=\"video-added\">\n",
      "\t\t\t\t\t\t\t\t\t\t\t\t\t\t\t\t1 天 之前\n",
      "\t\t\t\t\t\t\t</div> <div class=\"video-views pull-left\">\n",
      "\t\t\t\t\t\t\t\t30187 人观看\t\t\t\t\t\t\t</div> <div class=\"video-rating pull-right \"> <i class=\"fa fa-heart video-rating-heart \"></i> <b>83%</b> </div> <div class=\"clearfix\"></div> </div> </div> </div> <div id=\"related_videos_container_1\"></div> <center> <div class=\"center_related\" style=\"display: none;  margin: -6px 0 -26px 0;\"><img src=\"/templates/frontend/dark-corai/img/loading-bubbles.svg\"></div> <ul class=\"pager\"> <li><a href=\"#prev_related_videos\" id=\"prev_related_videos_17\" style=\"display: none;\">隐藏</a></li> <li><a href=\"#next_related_videos\" id=\"next_related_videos_17\" >显示更多</a></li> </ul> </center> </div> <div class=\"tab-pane fade\" id=\"comments\"> <div class=\"m-b-20\"></div> <div id=\"video_comments_17\"> <div id=\"video_response\" style=\"display: none;\"></div> <div id=\"comments_delimiter\" style=\"display: none;\"></div> <div class=\"well well-sm m-t-20 m-b-0\"> <span class=\"text-danger\">没用评论.</span> </div> </div> <div class=\"clearfix\"></div> </div> </div> <div class=\"well ad-body\"> <p class=\"ad-title\">赞助商</p> </div> </div><div class=\"footer-container\"> <div class=\"footer-links\"> <div class=\"container\"> <div class=\"row\"> <div class=\"col-sm-4\"> <h4>信息</h4> <ul class=\"list-unstyled\"> <li><a href=\"/static/terms\" rel=\"nofollow\">条款和条件</a></li> <li><a href=\"/static/privacy\" rel=\"nofollow\">私隐权政策</a></li> <li><a href=\"/static/dmca\" rel=\"nofollow\">DMCA</a></li> <li><a href=\"/static/_2257\" rel=\"nofollow\">2257</a></li> </ul> </div> <div class=\"col-sm-4\"> <h4>我们的工作</h4> <ul class=\"list-unstyled\"> <li><a href=\"/static/advertise\" rel=\"nofollow\">广告</a></li> <li><a href=\"/static/webmasters\" rel=\"nofollow\">网站管理员</a></li> <li><a href=\"/invite\" rel=\"nofollow\">邀请朋友</a></li> </ul> </div> <div class=\"col-sm-4\"> <h4>帮助</h4> <ul class=\"list-unstyled\"> <li><a href=\"/notices\">通告</a></li> <li><a href=\"/static/faq\" rel=\"nofollow\">常见问题</a></li> <li><a href=\"/feedback\" rel=\"nofollow\">帮助 / 意见</a></li> </ul> </div> </div> </div> </div> <div class=\"footer\"> <div class=\"container\"> <div class=\"hidden-xs\"> <div class=\"pull-left\"> <span>版权所有 &#169; 2019</span> 千百撸\n",
      "\t\t\t\t</div> <div class=\"pull-right\"> </div> <div class=\"clearfix\"></div> </div> <div class=\"visible-xs\"><span>版权所有 &#169; 2019</span> 千百撸<br /></div> </div> </div> </div> </div> <script src=\"http://120.52.51.30/cdn.cache2.us/templates/frontend/dark-corai/js/bootstrap.min.js\"></script> <script type=\"text/javascript\" src=\"/templates/frontend/dark-corai/js/gtag.js\"></script> <script type=\"text/javascript\" src=\"http://120.52.51.30/cdn.cache2.us/templates/frontend/dark-corai/js/jquery.rotator-0.2.js\"></script> <script type=\"text/javascript\" src=\"http://120.52.51.30/cdn.cache2.us/templates/frontend/dark-corai/js/jquery.avs-0.2.js\"></script> <script src=\"http://120.52.51.30/cdn.cache2.us/media/player/videojs/video-js-events.js\"></script> <script>\n",
      "\t\n",
      "\t\t\tif (navigator.userAgent.match(/IEMobile\\/10\\.0/)) {\n",
      "\t\t  var msViewportStyle = document.createElement('style')\n",
      "\t\t  msViewportStyle.appendChild(\n",
      "\t\t\tdocument.createTextNode(\n",
      "\t\t\t  '@-ms-viewport{width:auto!important}'\n",
      "\t\t\t)\n",
      "\t\t  )\n",
      "\t\t  document.querySelector('head').appendChild(msViewportStyle)\n",
      "\t\t}\n",
      "\t\n",
      "\t</script> <script type=\"text/javascript\">\n",
      "  var _paq = _paq || [];\n",
      "  /* tracker methods like \"setCustomDimension\" should be called before \"trackPageView\" */\n",
      "  _paq.push([\"setDocumentTitle\", document.domain + \"/\" + document.title]);\n",
      "  _paq.push(['trackPageView']);\n",
      "  _paq.push(['enableLinkTracking']);\n",
      "  (function() {\n",
      "    var u=\"https://analysis.361lu.com/\";\n",
      "    _paq.push(['setTrackerUrl', u+'piwik.php']);\n",
      "    _paq.push(['setSiteId', '3']);\n",
      "    var d=document, g=d.createElement('script'), s=d.getElementsByTagName('script')[0];\n",
      "    g.type='text/javascript'; g.async=true; g.defer=true; g.src=u+'piwik.js'; s.parentNode.insertBefore(g,s);\n",
      "  })();\n",
      "</script> <script type=\"text/javascript\" src=\"https://ip.361lu.com/ipjson.php\"></script> </body> </html>\n"
     ]
    }
   ],
   "source": [
    "html_source = rqs.get(url, headers=header)\n",
    "print(html_source.text)"
   ]
  },
  {
   "cell_type": "code",
   "execution_count": 16,
   "metadata": {},
   "outputs": [],
   "source": [
    "html = pq(html_source.text)\n",
    "# print(html)"
   ]
  },
  {
   "cell_type": "code",
   "execution_count": 17,
   "metadata": {},
   "outputs": [
    {
     "data": {
      "text/plain": [
       "True"
      ]
     },
     "execution_count": 17,
     "metadata": {},
     "output_type": "execute_result"
    }
   ],
   "source": [
    "video_source= html('source')\n",
    "isinstance(video_source,list)"
   ]
  },
  {
   "cell_type": "code",
   "execution_count": 18,
   "metadata": {},
   "outputs": [
    {
     "name": "stdout",
     "output_type": "stream",
     "text": [
      "HD_US\n",
      "//m3u8.361lu.com/us.php?key=aDlVbE02RENLMVZIV0ZTRUc1T1IvSTd1NjV2SU1QbFF4UG00a3pGbm1ZS2p5ek13OUxqZyszZk1kSjNDdU1sektnZ01lUGxPR1RPS2kxZi9Za3Brd2lPelVjRkd6bTh0WkRJWmJRNEJxTXRrRHNNQ1JvSE04UUcxU0J6NXhFck1kdEplcWQyWEdsdWRJOGtZK002Wmhld2VnR2tkQ2tnK01NV1VpTldXZG1vPQ==&hash=82bdb3df9cdd78da558a10eb394c91df76e14920af97f5bd5be8905bb3196939fbb654b6462851632b89808758e42f6d0ba61af46893349e9e046719af217412\n",
      "HD_CN\n",
      "//m3u8.361lu.com/cn.php?key=aDlVbE02RENLMVZIV0ZTRUc1T1IvSTd1NjV2SU1QbFF4UG00a3pGbm1ZS2p5ek13OUxqZyszZk1kSjNDdU1sektnZ01lUGxPR1RPS2kxZi9Za3Brd2lPelVjRkd6bTh0WkRJWmJRNEJxTXRrRHNNQ1JvSE04UUcxU0J6NXhFck1kdEplcWQyWEdsdWRJOGtZK002Wmhld2VnR2tkQ2tnK01NV1VpTldXZG1vPQ==&hash=82bdb3df9cdd78da558a10eb394c91df76e14920af97f5bd5be8905bb3196939fbb654b6462851632b89808758e42f6d0ba61af46893349e9e046719af217412\n"
     ]
    }
   ],
   "source": [
    "for i in video_source:\n",
    "    element=pq(i)\n",
    "    print(element.attr('label'))\n",
    "    print(element.attr('src'))"
   ]
  },
  {
   "cell_type": "code",
   "execution_count": 19,
   "metadata": {},
   "outputs": [
    {
     "name": "stdout",
     "output_type": "stream",
     "text": [
      "hash error\n"
     ]
    }
   ],
   "source": [
    "video_url='http:'+ '//m3u8.361lu.com/cn.php?key=eWFWSjZZZEdtMFZxdHl6U2VlQi9LY3FrMzU3WkRHNXlZNk5EcFJqaG02MXcwSmNBWGV1cXVYNjVvanNXa1dyb0tJUjhWcjFjdFVCWHZBZTh1bHBpWUhNRGljU0Q3dFdsaWM1K2tBTHJ1a2wwRnhYS0lkcStRNFV2S29QejJKUWx6S0hRdTRBQmRTYzV3SzF2ZnRSQ0tYWHkyOXVhL3NXRWJodVdIMXRtNDRBPQ==&hash=f33d4a224f4e164f9a8edb7ad01f28654f6ae34917cbab8eeeecb2f8e009b4379e376fd02cadd4ba97a060b11bf9454b9670599033d37c2c30e6d94bc0be4ec0'\n",
    "video_source = rqs.get(video_url, headers=header)\n",
    "print(video_source.text)"
   ]
  },
  {
   "cell_type": "code",
   "execution_count": 9,
   "metadata": {},
   "outputs": [
    {
     "data": {
      "text/plain": [
       "True"
      ]
     },
     "execution_count": 9,
     "metadata": {},
     "output_type": "execute_result"
    }
   ],
   "source": [
    "video_list=video_source.text.split('\\n')\n",
    "isinstance(video_list,list)"
   ]
  },
  {
   "cell_type": "code",
   "execution_count": 10,
   "metadata": {
    "scrolled": false
   },
   "outputs": [
    {
     "data": {
      "text/plain": [
       "[]"
      ]
     },
     "execution_count": 10,
     "metadata": {},
     "output_type": "execute_result"
    }
   ],
   "source": [
    "video_url_rule=re.compile('^http.+video\\d+\\.ts$')\n",
    "vide_url_filter=[x for x in video_list if video_url_rule.match(x) ]\n",
    "vide_url_filter"
   ]
  },
  {
   "cell_type": "code",
   "execution_count": 11,
   "metadata": {
    "scrolled": true
   },
   "outputs": [],
   "source": [
    "s=rpc.ServerProxy(\"http://localhost:6800/rpc\")\n",
    "for i in vide_url_filter:\n",
    "    r=s.aria2.addUri(\"token:a6516320-9d0f-48dc-bf56-2cdd5314e131\",[i], {\"dir\":\"/home/think/Samba/downloads/test3\"})\n",
    "    print(r)"
   ]
  },
  {
   "cell_type": "code",
   "execution_count": 12,
   "metadata": {},
   "outputs": [
    {
     "ename": "IndexError",
     "evalue": "list index out of range",
     "output_type": "error",
     "traceback": [
      "\u001b[0;31m---------------------------------------------------------------------------\u001b[0m",
      "\u001b[0;31mIndexError\u001b[0m                                Traceback (most recent call last)",
      "\u001b[0;32m<ipython-input-12-ab26ae0f3e18>\u001b[0m in \u001b[0;36m<module>\u001b[0;34m\u001b[0m\n\u001b[1;32m      1\u001b[0m \u001b[0ms\u001b[0m\u001b[0;34m=\u001b[0m\u001b[0mrpc\u001b[0m\u001b[0;34m.\u001b[0m\u001b[0mServerProxy\u001b[0m\u001b[0;34m(\u001b[0m\u001b[0;34m\"http://localhost:6800/rpc\"\u001b[0m\u001b[0;34m)\u001b[0m\u001b[0;34m\u001b[0m\u001b[0m\n\u001b[0;32m----> 2\u001b[0;31m \u001b[0mr\u001b[0m\u001b[0;34m=\u001b[0m\u001b[0ms\u001b[0m\u001b[0;34m.\u001b[0m\u001b[0maria2\u001b[0m\u001b[0;34m.\u001b[0m\u001b[0maddUri\u001b[0m\u001b[0;34m(\u001b[0m\u001b[0;34m\"token:a6516320-9d0f-48dc-bf56-2cdd5314e131\"\u001b[0m\u001b[0;34m,\u001b[0m\u001b[0;34m[\u001b[0m\u001b[0mvide_url_filter\u001b[0m\u001b[0;34m[\u001b[0m\u001b[0;36m0\u001b[0m\u001b[0;34m]\u001b[0m\u001b[0;34m]\u001b[0m\u001b[0;34m,\u001b[0m \u001b[0;34m{\u001b[0m\u001b[0;34m\"dir\"\u001b[0m\u001b[0;34m:\u001b[0m\u001b[0;34m\"/home/think/Samba/downloads/test3\"\u001b[0m\u001b[0;34m}\u001b[0m\u001b[0;34m)\u001b[0m\u001b[0;34m\u001b[0m\u001b[0m\n\u001b[0m\u001b[1;32m      3\u001b[0m \u001b[0mprint\u001b[0m\u001b[0;34m(\u001b[0m\u001b[0mr\u001b[0m\u001b[0;34m)\u001b[0m\u001b[0;34m\u001b[0m\u001b[0m\n",
      "\u001b[0;31mIndexError\u001b[0m: list index out of range"
     ]
    }
   ],
   "source": [
    "s=rpc.ServerProxy(\"http://localhost:6800/rpc\")\n",
    "r=s.aria2.addUri(\"token:a6516320-9d0f-48dc-bf56-2cdd5314e131\",[vide_url_filter[0]], {\"dir\":\"/home/think/Samba/downloads/test3\"})\n",
    "print(r)"
   ]
  },
  {
   "cell_type": "code",
   "execution_count": 34,
   "metadata": {},
   "outputs": [],
   "source": [
    "import mysql.connector as database\n",
    "from mysql.connector import IntegrityError"
   ]
  },
  {
   "cell_type": "code",
   "execution_count": 43,
   "metadata": {},
   "outputs": [],
   "source": [
    "conn=database.connect(user='root',password='110119',database='test')\n",
    "cursor=conn.cursor()"
   ]
  },
  {
   "cell_type": "code",
   "execution_count": 46,
   "metadata": {},
   "outputs": [
    {
     "name": "stdout",
     "output_type": "stream",
     "text": [
      "重复\n"
     ]
    }
   ],
   "source": [
    "try:\n",
    "    result=cursor.execute('INSERT INTO video_list(title,url,download_status) values(%s,%s,%s)',['test','http',0])\n",
    "    cursor.rowcount\n",
    "    conn.commit()\n",
    "except IntegrityError as e :\n",
    "    print('重复')"
   ]
  },
  {
   "cell_type": "code",
   "execution_count": null,
   "metadata": {},
   "outputs": [],
   "source": [
    "cursor.execute('SELECT * FROM video_list')\n",
    "select_values=cursor.fetchall()\n",
    "select_values"
   ]
  },
  {
   "cell_type": "code",
   "execution_count": null,
   "metadata": {},
   "outputs": [],
   "source": [
    "test='80%'\n",
    "print(test.rstrip('%'))"
   ]
  },
  {
   "cell_type": "code",
   "execution_count": null,
   "metadata": {},
   "outputs": [],
   "source": [
    "for i in range(1,45):\n",
    "    print(i)"
   ]
  }
 ],
 "metadata": {
  "kernelspec": {
   "display_name": "Python 3",
   "language": "python",
   "name": "python3"
  },
  "language_info": {
   "codemirror_mode": {
    "name": "ipython",
    "version": 3
   },
   "file_extension": ".py",
   "mimetype": "text/x-python",
   "name": "python",
   "nbconvert_exporter": "python",
   "pygments_lexer": "ipython3",
   "version": "3.5.3"
  }
 },
 "nbformat": 4,
 "nbformat_minor": 2
}
